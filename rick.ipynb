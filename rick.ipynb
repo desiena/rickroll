{
 "cells": [
  {
   "cell_type": "code",
   "execution_count": 41,
   "metadata": {},
   "outputs": [],
   "source": [
    "import random\n",
    "\n",
    "verse1 = \"we're no strangers to love\\n\\\n",
    "you know the rules and so do I\\n\\\n",
    "a full commitment's what I'm thinking of\\n\\\n",
    "You wouldn't get this from any other guy\\n\\\n",
    "i just wanna tell you how I'm feeling\\n\\\n",
    "gotta make you understand\\n\\\n",
    "Never gonna give you up\\n\\\n",
    "Never gonna let you down\\n\\\n",
    "Never gonna run around and desert you\\n\\\n",
    "Never gonna make you cry\\n\\\n",
    "Never gonna say goodbye\\n\\\n",
    "Never gonna tell a lie and hurt you\"\n",
    "\n",
    "verse2 = \"We've known each other for so long\\n\\\n",
    "Your heart's been aching but you're too shy to say it\\n\\\n",
    "Inside we both know what's been going on\\n\\\n",
    "We know the game and we're gonna play it\\n\\\n",
    "And if you ask me how I'm feeling\\n\\\n",
    "Don't tell me you're too blind to see\\n\\\n",
    "Never gonna give you up\\n\\\n",
    "Never gonna let you down\\n\\\n",
    "Never gonna run around and desert you\\n\\\n",
    "Never gonna make you cry\\n\\\n",
    "Never gonna say goodbye\\n\\\n",
    "Never gonna tell a lie and hurt you\""
   ]
  },
  {
   "cell_type": "code",
   "execution_count": 42,
   "metadata": {},
   "outputs": [
    {
     "data": {
      "text/plain": [
       "[\"we're no strangers to love\",\n",
       " 'you know the rules and so do i',\n",
       " \"a full commitment's what i'm thinking of\",\n",
       " \"you wouldn't get this from any other guy\",\n",
       " \"i just wanna tell you how i'm feeling\",\n",
       " 'gotta make you understand',\n",
       " 'never gonna give you up',\n",
       " 'never gonna let you down',\n",
       " 'never gonna run around and desert you',\n",
       " 'never gonna make you cry',\n",
       " 'never gonna say goodbye',\n",
       " 'never gonna tell a lie and hurt you']"
      ]
     },
     "execution_count": 42,
     "metadata": {},
     "output_type": "execute_result"
    }
   ],
   "source": [
    "verse1.lower().split('\\n')"
   ]
  },
  {
   "cell_type": "code",
   "execution_count": 46,
   "metadata": {},
   "outputs": [
    {
     "data": {
      "text/plain": [
       "dict_keys(['w', 'e', \"'\", 'r', 'n', 'o', 's', 't', 'a', 'g', 'l', 'v', 'y', 'u', 'k', 'h', 'd', 'i', 'f', 'c', 'm', 'j', 'p', 'b'])"
      ]
     },
     "execution_count": 46,
     "metadata": {},
     "output_type": "execute_result"
    }
   ],
   "source": [
    "dict = {}\n",
    "for li, l in enumerate(verse1.lower().split('\\n')):\n",
    "    for ci, c in enumerate(\"\".join(l.split())):\n",
    "        if c in dict:\n",
    "            dict[c].append((li + 1, ci + 1))\n",
    "        else:\n",
    "            dict[c] = [(li + 1, ci + 1)]\n",
    "\n",
    "dict.keys()"
   ]
  },
  {
   "cell_type": "code",
   "execution_count": 48,
   "metadata": {},
   "outputs": [
    {
     "name": "stdout",
     "output_type": "stream",
     "text": [
      "[[(5, 20), (7, 2), (4, 10), (7, 13), (8, 2), (2, 4), (9, 18), (11, 15), (3, 18), (7, 9), (10, 14), (10, 12), (10, 18), (2, 9), (4, 2), (4, 15), (5, 18), (12, 4), (1, 4), (3, 2), (1, 7), (8, 5), (4, 18), (3, 33), (5, 27), (6, 2), (7, 1), (7, 6)], [(12, 26), (6, 11), (6, 13), (12, 5), (2, 9), (9, 4), (10, 12), (4, 30), (4, 27), (1, 3), (2, 15), (11, 18), (2, 14), (7, 2), (7, 1), (2, 16), (3, 6), (4, 16), (4, 17), (9, 13), (11, 6), (11, 18), (5, 3), (9, 28), (10, 15), (2, 22), (4, 6), (5, 22), (1, 4), (5, 25), (5, 11), (9, 7), (2, 20), (6, 18), (4, 28), (6, 10), (12, 25), (2, 6), (1, 16), (11, 10), (4, 33), (4, 17), (1, 9)], [(4, 17), (10, 8), (5, 4), (2, 23), (2, 18), (1, 22), (1, 1), (8, 4), (11, 18), (11, 7), (3, 25), (12, 22), (6, 8), (12, 9), (1, 20), (1, 1), (5, 6), (12, 22), (3, 1), (12, 25), (3, 16), (11, 11), (11, 18), (1, 22), (9, 24), (1, 12), (1, 13), (7, 16), (5, 1), (10, 8), (11, 14), (1, 20), (9, 21)], [(5, 20), (7, 14), (10, 13), (4, 24), (6, 11), (8, 19), (1, 17), (2, 9), (9, 24), (10, 6), (2, 16), (3, 8), (1, 5), (10, 10), (9, 21), (2, 18), (4, 4), (1, 14), (4, 10), (9, 11), (3, 13), (5, 30), (9, 7), (4, 24), (12, 9), (6, 20), (7, 19), (3, 5), (12, 10), (7, 15), (3, 22), (6, 3)], [(6, 5), (8, 1), (2, 21), (7, 12), (3, 34), (5, 15), (1, 7), (9, 17), (8, 10), (5, 4), (10, 13), (3, 8), (6, 9), (2, 9), (9, 7), (5, 6), (7, 12), (5, 22), (3, 8), (3, 34), (6, 16), (12, 2), (12, 14), (3, 27), (9, 13), (7, 6)], [(9, 19), (11, 15), (4, 24), (1, 3), (1, 17), (12, 25), (4, 29), (12, 13), (12, 14), (3, 9), (1, 14), (10, 20), (11, 7), (10, 17), (4, 10), (8, 5), (10, 2), (3, 25), (3, 33), (5, 19), (11, 18), (5, 14), (3, 10), (4, 9), (9, 22), (6, 4), (8, 7), (3, 17), (7, 2), (4, 29)], [(9, 1), (1, 5), (9, 3), (9, 4), (8, 5), (8, 6), (1, 20), (12, 9), (5, 29), (9, 10), (3, 32), (3, 22), (1, 21), (11, 4), (12, 26), (6, 11), (6, 12), (4, 6), (7, 19)], [(7, 1), (9, 2), (7, 3), (1, 2), (1, 10), (1, 13), (11, 7), (9, 1), (11, 9), (4, 23), (4, 7), (9, 4), (4, 27), (4, 25), (11, 7), (9, 17), (8, 17), (1, 7), (2, 7), (12, 20)], [(8, 20), (12, 2), (7, 13), (6, 9), (9, 5), (7, 6), (5, 16), (7, 9), (10, 9), (2, 16), (2, 11), (10, 17), (1, 12), (12, 19), (9, 27), (2, 20), (12, 28), (9, 21), (6, 15), (11, 10), (10, 9), (2, 18), (2, 18), (5, 12), (1, 16), (12, 18), (11, 5), (8, 13), (8, 14), (6, 2), (7, 18)], [(2, 5), (5, 26), (8, 3), (10, 2), (9, 11), (6, 1), (4, 2), (8, 1), (9, 18), (5, 10), (3, 8), (12, 15), (10, 13), (11, 20), (4, 33), (2, 6), (7, 17), (3, 6), (9, 27), (7, 15)], [(7, 9), (4, 29), (7, 13), (11, 2), (10, 5), (4, 12), (7, 7), (6, 14), (2, 17), (7, 10), (4, 18), (12, 19), (10, 15), (11, 14), (8, 15), (4, 5), (6, 15), (11, 18), (12, 26), (5, 25)], [(5, 8), (7, 2), (7, 3), (1, 14), (7, 5), (9, 6), (8, 15), (3, 28), (12, 1), (3, 20), (5, 11), (12, 4), (8, 11), (3, 4), (6, 20), (12, 13), (3, 10), (9, 2), (12, 15), (1, 6), (9, 23), (2, 9), (7, 18), (6, 17), (4, 14), (9, 29), (12, 7), (4, 3)]]\n"
     ]
    }
   ],
   "source": [
    "code = [[]]\n",
    "codeline = 0\n",
    "for c in \"\".join(verse2.lower().split(\" \")):\n",
    "    if c==\"\\n\":\n",
    "        code.append([])\n",
    "        codeline+=1\n",
    "    else:\n",
    "        code[codeline].append(random.choice(dict[c]))\n",
    "print(code)"
   ]
  },
  {
   "cell_type": "code",
   "execution_count": null,
   "metadata": {},
   "outputs": [],
   "source": []
  }
 ],
 "metadata": {
  "kernelspec": {
   "display_name": "Python 3",
   "language": "python",
   "name": "python3"
  },
  "language_info": {
   "codemirror_mode": {
    "name": "ipython",
    "version": 3
   },
   "file_extension": ".py",
   "mimetype": "text/x-python",
   "name": "python",
   "nbconvert_exporter": "python",
   "pygments_lexer": "ipython3",
   "version": "3.7.2"
  }
 },
 "nbformat": 4,
 "nbformat_minor": 2
}
